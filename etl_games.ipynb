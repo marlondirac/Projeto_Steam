{
  "nbformat": 4,
  "nbformat_minor": 0,
  "metadata": {
    "colab": {
      "name": "etl-games.ipynb",
      "provenance": [],
      "collapsed_sections": []
    },
    "kernelspec": {
      "name": "python3",
      "display_name": "Python 3"
    },
    "language_info": {
      "name": "python"
    }
  },
  "cells": [
    {
      "cell_type": "markdown",
      "source": [
        "#Instalação e importações de bibliotecas"
      ],
      "metadata": {
        "id": "pHDAilDQ1uBI"
      }
    },
    {
      "cell_type": "code",
      "source": [
        "pip install pyspark"
      ],
      "metadata": {
        "colab": {
          "base_uri": "https://localhost:8080/"
        },
        "id": "Z0bIDQTgr9rb",
        "outputId": "6062537a-8f63-4a37-d1fe-1030c85a484d"
      },
      "execution_count": null,
      "outputs": [
        {
          "output_type": "stream",
          "name": "stdout",
          "text": [
            "Looking in indexes: https://pypi.org/simple, https://us-python.pkg.dev/colab-wheels/public/simple/\n",
            "Collecting pyspark\n",
            "  Downloading pyspark-3.2.1.tar.gz (281.4 MB)\n",
            "\u001b[K     |████████████████████████████████| 281.4 MB 26 kB/s \n",
            "\u001b[?25hCollecting py4j==0.10.9.3\n",
            "  Downloading py4j-0.10.9.3-py2.py3-none-any.whl (198 kB)\n",
            "\u001b[K     |████████████████████████████████| 198 kB 31.7 MB/s \n",
            "\u001b[?25hBuilding wheels for collected packages: pyspark\n",
            "  Building wheel for pyspark (setup.py) ... \u001b[?25l\u001b[?25hdone\n",
            "  Created wheel for pyspark: filename=pyspark-3.2.1-py2.py3-none-any.whl size=281853642 sha256=07eacd80af5812fa9956e582fb8e58b878d497b78e4d9ab3581acfdd8c4b706c\n",
            "  Stored in directory: /root/.cache/pip/wheels/9f/f5/07/7cd8017084dce4e93e84e92efd1e1d5334db05f2e83bcef74f\n",
            "Successfully built pyspark\n",
            "Installing collected packages: py4j, pyspark\n",
            "Successfully installed py4j-0.10.9.3 pyspark-3.2.1\n"
          ]
        }
      ]
    },
    {
      "cell_type": "code",
      "source": [
        "import pandas as pd\n",
        "from pyspark.sql import SparkSession\n",
        "from pyspark import SparkConf\n",
        "import pyspark.sql.functions as F\n",
        "from pyspark.sql.functions import split\n",
        "spark = SparkSession.builder.master(\"local\").appName(\"etl-games\").config(\"spark.ui.port\",\"4050\").getOrCreate() "
      ],
      "metadata": {
        "id": "ryqlTUXXsAVf"
      },
      "execution_count": null,
      "outputs": []
    },
    {
      "cell_type": "markdown",
      "source": [
        "#Extração e transformação dos dados via Pandas e Pyspark"
      ],
      "metadata": {
        "id": "STZs-UiI12vT"
      }
    },
    {
      "cell_type": "code",
      "source": [
        "#Leitura do CSV e base de dados\n",
        "df = pd.read_csv(\"/content/drive/MyDrive/Valve_Player_Data.csv\")"
      ],
      "metadata": {
        "id": "wk3JhyxEwZPS"
      },
      "execution_count": null,
      "outputs": []
    },
    {
      "cell_type": "code",
      "source": [
        "#Exclusão de colunas irrelevantes para os Insights\n",
        "df.drop(columns={\"URL\",\"Percent_Gain\"},axis=1,inplace=True)"
      ],
      "metadata": {
        "id": "X-m6l_6P0rUG"
      },
      "execution_count": null,
      "outputs": []
    },
    {
      "cell_type": "code",
      "source": [
        "df.columns"
      ],
      "metadata": {
        "colab": {
          "base_uri": "https://localhost:8080/"
        },
        "id": "BLLwL-zU1XR7",
        "outputId": "4459143b-cc90-4dd0-e70c-498e35e9324b"
      },
      "execution_count": null,
      "outputs": [
        {
          "output_type": "execute_result",
          "data": {
            "text/plain": [
              "Index(['Month_Year', 'Avg_players', 'Gain', 'Peak_Players', 'Date',\n",
              "       'Game_Name'],\n",
              "      dtype='object')"
            ]
          },
          "metadata": {},
          "execution_count": 5
        }
      ]
    },
    {
      "cell_type": "code",
      "source": [
        "#Tradução das colunas para português\n",
        "df.rename({'Month_Year':'Mes_Ano','Avg_players':'Media_Players','Gain':'Ganho','Peak_Players':'Pico_Players','Date':'Data','Game_Name':'Nome_Jogo'},axis=1,inplace=True)"
      ],
      "metadata": {
        "id": "LlnASfLr1fvK"
      },
      "execution_count": null,
      "outputs": []
    },
    {
      "cell_type": "code",
      "source": [
        "#Verificação dos tipos de dados do dataframe\n",
        "df.dtypes"
      ],
      "metadata": {
        "colab": {
          "base_uri": "https://localhost:8080/"
        },
        "id": "KiYdnu6A2QuY",
        "outputId": "62c55367-bf1d-4b15-f093-d7963110dd58"
      },
      "execution_count": null,
      "outputs": [
        {
          "output_type": "execute_result",
          "data": {
            "text/plain": [
              "Mes_Ano           object\n",
              "Media_Players    float64\n",
              "Ganho            float64\n",
              "Pico_Players       int64\n",
              "Data              object\n",
              "Nome_Jogo         object\n",
              "dtype: object"
            ]
          },
          "metadata": {},
          "execution_count": 7
        }
      ]
    },
    {
      "cell_type": "code",
      "source": [
        "#Verificação de inconsistências, isto é, se os dados estão com caracteres especiais no início dos nomes\n",
        "sorted(pd.unique(df[\"Data\"]))"
      ],
      "metadata": {
        "id": "nbLQarAt2vv9",
        "colab": {
          "base_uri": "https://localhost:8080/"
        },
        "outputId": "59af3b73-7e0f-48d1-cba1-d19cb08b35f9"
      },
      "execution_count": null,
      "outputs": [
        {
          "output_type": "execute_result",
          "data": {
            "text/plain": [
              "['2012-07-01',\n",
              " '2012-08-01',\n",
              " '2012-09-01',\n",
              " '2012-10-01',\n",
              " '2012-11-01',\n",
              " '2012-12-01',\n",
              " '2013-01-01',\n",
              " '2013-02-01',\n",
              " '2013-03-01',\n",
              " '2013-04-01',\n",
              " '2013-05-01',\n",
              " '2013-06-01',\n",
              " '2013-07-01',\n",
              " '2013-08-01',\n",
              " '2013-09-01',\n",
              " '2013-10-01',\n",
              " '2013-11-01',\n",
              " '2013-12-01',\n",
              " '2014-01-01',\n",
              " '2014-02-01',\n",
              " '2014-03-01',\n",
              " '2014-04-01',\n",
              " '2014-05-01',\n",
              " '2014-06-01',\n",
              " '2014-07-01',\n",
              " '2014-08-01',\n",
              " '2014-09-01',\n",
              " '2014-10-01',\n",
              " '2014-11-01',\n",
              " '2014-12-01',\n",
              " '2015-01-01',\n",
              " '2015-02-01',\n",
              " '2015-03-01',\n",
              " '2015-04-01',\n",
              " '2015-05-01',\n",
              " '2015-06-01',\n",
              " '2015-07-01',\n",
              " '2015-08-01',\n",
              " '2015-09-01',\n",
              " '2015-10-01',\n",
              " '2015-11-01',\n",
              " '2015-12-01',\n",
              " '2016-01-01',\n",
              " '2016-02-01',\n",
              " '2016-03-01',\n",
              " '2016-04-01',\n",
              " '2016-05-01',\n",
              " '2016-06-01',\n",
              " '2016-07-01',\n",
              " '2016-08-01',\n",
              " '2016-09-01',\n",
              " '2016-10-01',\n",
              " '2016-11-01',\n",
              " '2016-12-01',\n",
              " '2017-01-01',\n",
              " '2017-02-01',\n",
              " '2017-03-01',\n",
              " '2017-04-01',\n",
              " '2017-05-01',\n",
              " '2017-06-01',\n",
              " '2017-07-01',\n",
              " '2017-08-01',\n",
              " '2017-09-01',\n",
              " '2017-10-01',\n",
              " '2017-11-01',\n",
              " '2017-12-01',\n",
              " '2018-01-01',\n",
              " '2018-02-01',\n",
              " '2018-03-01',\n",
              " '2018-04-01',\n",
              " '2018-05-01',\n",
              " '2018-06-01',\n",
              " '2018-07-01',\n",
              " '2018-08-01',\n",
              " '2018-09-01',\n",
              " '2018-10-01',\n",
              " '2018-11-01',\n",
              " '2018-12-01',\n",
              " '2019-01-01',\n",
              " '2019-02-01',\n",
              " '2019-03-01',\n",
              " '2019-04-01',\n",
              " '2019-05-01',\n",
              " '2019-06-01',\n",
              " '2019-07-01',\n",
              " '2019-08-01',\n",
              " '2019-09-01',\n",
              " '2019-10-01',\n",
              " '2019-11-01',\n",
              " '2019-12-01',\n",
              " '2020-01-01',\n",
              " '2020-02-01',\n",
              " '2020-03-01',\n",
              " '2020-04-01',\n",
              " '2020-05-01',\n",
              " '2020-06-01',\n",
              " '2020-07-01',\n",
              " '2020-08-01',\n",
              " '2020-09-01',\n",
              " '2020-10-01',\n",
              " '2020-11-01',\n",
              " '2020-12-01',\n",
              " '2021-01-01',\n",
              " '2021-02-01',\n",
              " '2021-03-01',\n",
              " '2021-04-01',\n",
              " '2021-05-01',\n",
              " '2021-06-01',\n",
              " '2021-07-01',\n",
              " '2021-08-01',\n",
              " '2021-09-01']"
            ]
          },
          "metadata": {},
          "execution_count": 8
        }
      ]
    },
    {
      "cell_type": "code",
      "source": [
        "#Verificação e checagem de valores nulos\n",
        "df.isna().sum()"
      ],
      "metadata": {
        "colab": {
          "base_uri": "https://localhost:8080/"
        },
        "id": "DJGsnoBQGIFY",
        "outputId": "2d2d1deb-2f0b-4893-92e5-ea626cfadf2d"
      },
      "execution_count": null,
      "outputs": [
        {
          "output_type": "execute_result",
          "data": {
            "text/plain": [
              "Mes_Ano           0\n",
              "Media_Players     0\n",
              "Ganho            98\n",
              "Pico_Players      0\n",
              "Data              0\n",
              "Nome_Jogo         0\n",
              "dtype: int64"
            ]
          },
          "metadata": {},
          "execution_count": 9
        }
      ]
    },
    {
      "cell_type": "code",
      "source": [
        "#Substituição dos valores nulos da coluna ganho para a média\n",
        "media = df['Ganho'].mean()"
      ],
      "metadata": {
        "id": "cHUiFX0eMf5W"
      },
      "execution_count": null,
      "outputs": []
    },
    {
      "cell_type": "code",
      "source": [
        "df['Ganho']=df['Ganho'].fillna(media)"
      ],
      "metadata": {
        "id": "xyUMdE92Mk_d"
      },
      "execution_count": null,
      "outputs": []
    },
    {
      "cell_type": "code",
      "source": [
        "df.isna().sum()"
      ],
      "metadata": {
        "colab": {
          "base_uri": "https://localhost:8080/"
        },
        "id": "nsVdUAIBMupB",
        "outputId": "0033e8bc-41f6-40ed-c85a-0d74d8976a98"
      },
      "execution_count": null,
      "outputs": [
        {
          "output_type": "execute_result",
          "data": {
            "text/plain": [
              "Mes_Ano          0\n",
              "Media_Players    0\n",
              "Ganho            0\n",
              "Pico_Players     0\n",
              "Data             0\n",
              "Nome_Jogo        0\n",
              "dtype: int64"
            ]
          },
          "metadata": {},
          "execution_count": 12
        }
      ]
    },
    {
      "cell_type": "code",
      "source": [
        "#Transformação do dataframe pandas em PySpark\n",
        "dfs = spark.createDataFrame(data=df)"
      ],
      "metadata": {
        "id": "rskFFWtLTh8m"
      },
      "execution_count": null,
      "outputs": []
    },
    {
      "cell_type": "code",
      "source": [
        "dfs = dfs.select(\"Nome_Jogo\",\"Media_Players\",\"Pico_Players\",\"Ganho\",\"Mes_Ano\",\"Data\")"
      ],
      "metadata": {
        "id": "PngIFuiwT0pV"
      },
      "execution_count": null,
      "outputs": []
    },
    {
      "cell_type": "code",
      "source": [
        "#Separando a coluna data em três colunas diferentes contendo ano, mês e dia\n",
        "dfs=dfs.withColumn('Ano', split(dfs['Data'],'-').getItem(0))"
      ],
      "metadata": {
        "id": "XnZ2y1JV1clI"
      },
      "execution_count": null,
      "outputs": []
    },
    {
      "cell_type": "code",
      "source": [
        "dfs = dfs.withColumn('Mes',split(dfs['Data'],'-').getItem(1))\\\n",
        ".withColumn('Dia',split(dfs['Data'],'-').getItem(2))"
      ],
      "metadata": {
        "id": "3FXYMdkO1clI"
      },
      "execution_count": null,
      "outputs": []
    },
    {
      "cell_type": "code",
      "source": [
        "#Exclusão da coluna Data e Mes_Ano após a criação de outras mais relevantes par análise.\n",
        "dfs=dfs.drop('Mes_Ano','Data')"
      ],
      "metadata": {
        "id": "bJmKYYtZ1clI"
      },
      "execution_count": null,
      "outputs": []
    },
    {
      "cell_type": "code",
      "source": [
        "#Após a transformação, os dados serão salvos em parquet.\n",
        "dfs.write.save(\"steam.snappy.parquet\")"
      ],
      "metadata": {
        "id": "olJV1Txp3evf"
      },
      "execution_count": null,
      "outputs": []
    },
    {
      "cell_type": "code",
      "source": [
        "from google.colab import drive\n",
        "drive.mount('/content/drive')"
      ],
      "metadata": {
        "colab": {
          "base_uri": "https://localhost:8080/"
        },
        "id": "YiKEKNFCKacs",
        "outputId": "b0c4b253-cfbd-471a-8e44-c483c1d6d66c"
      },
      "execution_count": null,
      "outputs": [
        {
          "output_type": "stream",
          "name": "stdout",
          "text": [
            "Drive already mounted at /content/drive; to attempt to forcibly remount, call drive.mount(\"/content/drive\", force_remount=True).\n"
          ]
        }
      ]
    },
    {
      "cell_type": "code",
      "source": [
        "dfs.printSchema()"
      ],
      "metadata": {
        "colab": {
          "base_uri": "https://localhost:8080/"
        },
        "id": "zczM33v6X5TP",
        "outputId": "bc113a57-a972-4e9d-c312-ec494c2965cc"
      },
      "execution_count": null,
      "outputs": [
        {
          "output_type": "stream",
          "name": "stdout",
          "text": [
            "root\n",
            " |-- Nome_Jogo: string (nullable = true)\n",
            " |-- Media_Players: double (nullable = true)\n",
            " |-- Pico_Players: long (nullable = true)\n",
            " |-- Ganho: double (nullable = true)\n",
            " |-- Ano: string (nullable = true)\n",
            " |-- Mes: string (nullable = true)\n",
            " |-- Dia: string (nullable = true)\n",
            "\n"
          ]
        }
      ]
    }
  ]
}